{
 "cells": [
  {
   "cell_type": "code",
   "execution_count": 1,
   "id": "301434d1",
   "metadata": {},
   "outputs": [],
   "source": [
    "import cv2 as cv\n",
    "from PIL import Image\n",
    "import time\n",
    "import os"
   ]
  },
  {
   "cell_type": "code",
   "execution_count": 3,
   "id": "21ce7090",
   "metadata": {},
   "outputs": [],
   "source": [
    "DIR_CROPPED = r\"C:\\Users\\Anna\\Documents\\siamese_face_recognition\\data\""
   ]
  },
  {
   "cell_type": "code",
   "execution_count": 4,
   "id": "bc535a42",
   "metadata": {},
   "outputs": [],
   "source": [
    "face_cascade = cv.CascadeClassifier(r'C:\\Users\\Anna\\Documents\\siamese_face_recognition\\data\\face_detection_default.xml')\n",
    "eye_cascade = cv.CascadeClassifier(r'C:\\Users\\Anna\\Documents\\siamese_face_recognition\\data\\eye_detection.xml')\n",
    "smile_cascade = cv.CascadeClassifier(r'C:\\Users\\Anna\\Documents\\siamese_face_recognition\\data\\smile_detection.xml')"
   ]
  },
  {
   "cell_type": "code",
   "execution_count": 5,
   "id": "063cfb27",
   "metadata": {},
   "outputs": [],
   "source": [
    "def crop(img, x, y, w, h, increase):\n",
    "    \"\"\"crops an image to a certain size\n",
    "\n",
    "    Args:\n",
    "      img: image\n",
    "      x, y, w, h: coordiantes, width, hight\n",
    "      increase: scale\n",
    "    \"\"\"\n",
    "    w=h=int(min(img.shape[0],img.shape[1] ,int(w*increase),int(h*increase))//increase)\n",
    "    \n",
    "    new_x=max(int(x-w*(increase-1)//2),0)\n",
    "    new_y=max(int(y-h*(increase-1)//2),0)\n",
    "\n",
    "    new_x=new_x-max(int(new_x+increase*w)-img.shape[1],0)\n",
    "    new_y=new_y-max(int(new_y+increase*h)-img.shape[0],0)\n",
    "\n",
    "    x=new_x\n",
    "    y=new_y\n",
    "\n",
    "    crop_img = img[y:y+int(h*increase), x:x+int(w*increase)]\n",
    "\n",
    "    return crop_img"
   ]
  },
  {
   "cell_type": "code",
   "execution_count": 6,
   "id": "b9d2fa02",
   "metadata": {},
   "outputs": [],
   "source": [
    "def get_name(DIR):\n",
    "    \"\"\"counts the number of images in directory and return a number used as a name of a new image \n",
    "\n",
    "    Args:\n",
    "      DIR: image directory\n",
    "    \"\"\"\n",
    "    d = os.listdir(DIR)\n",
    "    if len(d) == 0:\n",
    "        return \"0\"\n",
    "    x = [s.split('.')[0] for s in d]\n",
    "    x.sort()\n",
    "    return str(int(x[-1]) + 1)"
   ]
  },
  {
   "cell_type": "code",
   "execution_count": 5,
   "id": "ae97132d",
   "metadata": {},
   "outputs": [],
   "source": [
    "def dataset_creation(name, DIR_CROPPED, dataset = 'train'):\n",
    "    \"\"\"adds images to a specific directory under a specific name\n",
    "\n",
    "    Args:\n",
    "      name: name of a person\n",
    "      DIR_CROPPED: directory to add\n",
    "      dataset: {train, test, validation}\n",
    "    \"\"\"\n",
    "    DIR_CROPPED = os.path.join(DIR_CROPPED, dataset)\n",
    "    DIR_CROPPED = os.path.join(DIR_CROPPED, name)\n",
    "    \n",
    "    # create dir if not exist    \n",
    "    if not os.path.exists(DIR_CROPPED):\n",
    "        os.makedirs(DIR_CROPPED)\n",
    "\n",
    "    time = 20\n",
    "    cap = cv.VideoCapture(0)\n",
    "    while True:\n",
    "        # Read the frame\n",
    "        _, img = cap.read()\n",
    "        img =cv.flip(img, 1)\n",
    "        img_rec = img.copy()\n",
    "        gray = cv.cvtColor(img, cv.COLOR_BGR2GRAY)\n",
    "\n",
    "        faces = face_cascade.detectMultiScale(gray, 1.1, 10)\n",
    "        eyes = eye_cascade.detectMultiScale(gray, 1.3, 15)\n",
    "\n",
    "        # Draw the rectangle around each face\n",
    "        for (x, y, w, h) in faces:\n",
    "            cv.rectangle(img_rec, (x, y), (x+w, y+h), (255, 0, 0), 2)\n",
    "        for (x, y, w, h) in eyes:\n",
    "            cv.rectangle(img_rec, (x, y), (x+w, y+h), (0, 255, 0), 2)\n",
    "\n",
    "        if len(faces) >= 1:\n",
    "            if len(eyes) == len(faces)*2:\n",
    "                time -= 1\n",
    "            else:\n",
    "                time = 20\n",
    "\n",
    "            if time == 0:               \n",
    "                for (x, y, w, h) in faces:\n",
    "                    img_cropped = crop(img, x, y, w, h, 1.6)   \n",
    "                    path = DIR_CROPPED + \"\\\\\" + get_name(DIR_CROPPED) + \".jpg\"\n",
    "                    cv.imwrite(path, img_cropped)\n",
    "                    cv.imshow('Face', img_cropped)\n",
    "                    while True:\n",
    "                        if cv.waitKey(5) & 0xFF == ord('x'):\n",
    "                            cv.destroyWindow('Face')\n",
    "                            break\n",
    "\n",
    "        # Display\n",
    "        cv.imshow('Capture', img_rec)                \n",
    "\n",
    "        # Stop if escape key is pressed            \n",
    "        if cv.waitKey(1) & 0xFF == ord('x'):\n",
    "            cv.destroyAllWindows()\n",
    "            break\n",
    "\n",
    "\n",
    "    # Release the VideoCapture object\n",
    "    cap.release() "
   ]
  },
  {
   "cell_type": "code",
   "execution_count": 6,
   "id": "faa91090",
   "metadata": {},
   "outputs": [],
   "source": [
    "dataset_creation('Anna2', DIR_CROPPED, 'train')"
   ]
  },
  {
   "cell_type": "code",
   "execution_count": null,
   "id": "0e79c2ad",
   "metadata": {},
   "outputs": [],
   "source": []
  },
  {
   "cell_type": "code",
   "execution_count": null,
   "id": "961ab7df",
   "metadata": {},
   "outputs": [],
   "source": []
  }
 ],
 "metadata": {
  "kernelspec": {
   "display_name": "Python 3 (ipykernel)",
   "language": "python",
   "name": "python3"
  },
  "language_info": {
   "codemirror_mode": {
    "name": "ipython",
    "version": 3
   },
   "file_extension": ".py",
   "mimetype": "text/x-python",
   "name": "python",
   "nbconvert_exporter": "python",
   "pygments_lexer": "ipython3",
   "version": "3.9.12"
  }
 },
 "nbformat": 4,
 "nbformat_minor": 5
}
